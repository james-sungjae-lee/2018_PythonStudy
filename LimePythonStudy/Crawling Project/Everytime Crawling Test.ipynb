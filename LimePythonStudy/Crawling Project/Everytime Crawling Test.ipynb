{
 "cells": [
  {
   "cell_type": "markdown",
   "metadata": {},
   "source": [
    "## Everytime Crawling Test"
   ]
  },
  {
   "cell_type": "code",
   "execution_count": 1,
   "metadata": {},
   "outputs": [],
   "source": [
    "from selenium import webdriver\n",
    "from bs4 import BeautifulSoup\n",
    "from time import sleep"
   ]
  },
  {
   "cell_type": "code",
   "execution_count": 2,
   "metadata": {},
   "outputs": [],
   "source": [
    "# Using Chrome Webdriver\n",
    "\n",
    "driver = webdriver.Chrome('/Users/sungjae/Downloads/chromedriver')"
   ]
  },
  {
   "cell_type": "code",
   "execution_count": 3,
   "metadata": {},
   "outputs": [],
   "source": [
    "# Login into Everytime\n",
    "\n",
    "driver.get('https://everytime.kr/login')\n",
    "\n",
    "driver.find_element_by_name('userid').send_keys('user_id')\n",
    "driver.find_element_by_name('password').send_keys('user_pass')\n",
    "\n",
    "driver.find_element_by_class_name('submit').click()"
   ]
  },
  {
   "cell_type": "code",
   "execution_count": 4,
   "metadata": {},
   "outputs": [
    {
     "name": "stdout",
     "output_type": "stream",
     "text": [
      "https://everytime.kr/374614/p/1\n"
     ]
    }
   ],
   "source": [
    "base_url = 'https://everytime.kr/374614/p/'\n",
    "url = base_url + str(1)\n",
    "print(url)"
   ]
  },
  {
   "cell_type": "code",
   "execution_count": 12,
   "metadata": {},
   "outputs": [
    {
     "name": "stdout",
     "output_type": "stream",
     "text": [
      "그저 그랬던 방학이 끝나가네-\n",
      "더 가져오려다 더러워서 안가져온다.\n",
      "강의를 안하는게 맞다고본다\n",
      "중고딩때부터 옷입을줄 몰라서 관심도 없고고딩때는 1년동안 같은바지만 계속입던적도 있는데졸업롤페때 친구가 옷좀 바꿔입으라고 적엇더라고대학가서는 옷도 사고 해야지 했는데뭔가 청바지에 반팔티 한장만 입고다니게 되고결국 입대하기전까지 2~3벌만 무한반복함..군대다닐때는 진짜 존나편했음 옷때문에 스트레스 안받아서근데 다시 복학하려니까 뭐입어야되는지 걱정댄다그냥 내가 남의눈치를 너무보는건가같은옷만 입고다니면 불쾌해보이고 그러냐?\n",
      "전공 수업중에 3-2수업이여서 지금까지 못 듣고 있다가 올해 복학하면서 그 수업 신청하려고 하니까 갑자기 2-2수업이 된거임;;; 혹시나 해서 전체 수강신청때 시도해봤는데 그냥 시작부터 빨간불이였음..ㅋ과사에 물어봐도 인원 다차서 못 넣어준다 그러고 교수님께 메일 보내봤는데 그냥 진부한 복붙 답장만 왔음 한두푼 등록금도 아닌데 갑자기 학년 바꿔서 못듣는다고 생각하니까 개빡치는데 이런거 어디다 건의할 수 있는지 아는 사람....?\n",
      "월초에 장기할꺼에요~ 말하고2주있다가 아저 사정때문에 월말에 그만둬요 하면많이 또라이같아보일까\n",
      "난 그렇다 적어도 암울함\n",
      "남초들이 일베 왕따시켜서 일베만 악명 높은거지 수준은 엇비슷ㅇㅇ 첨부된 사진은 디씨 야갤이고 전부 2018년에 작성된 글이다. 일베에 박카스남 글 올라가고 남초 사이에서 글 공유되다가 디씨에선 할카스콘이라고 이모티콘 만들었다. 이들은 도덕을 논할 자격이 없다는 걸 알 수 있다. 여성이 무슨 일을 당하든 그남들에겐 유우머거나 딸감이다.참고로 dc는 2018년 7월 기준 대한민국 접속률 8위인 커뮤니티이며 야갤은 실시간 북적 갤러리에 고정적으로 있는 디씨의 수도급 갤러리다.\n",
      "지금 노트9살까 아이폰9 기다렸다가 그거 살까 고민중인데 둘중에 뭐가 나을까\n",
      "정확히몇일임?9/3?\n",
      "ㅈㄱㄴ\n",
      "ㄹㅇ로?\n",
      "10-20만원대\n",
      "과사없고 교학팀사무실만 있는거?\n",
      "학교별 취업센터에 대한 인식과 만족도에 대한 조사를 위한거에요 ! 설문도 간단하고 성함은 물어보지 않으니까 편하게 해주세요 !! 참여해주신 분들에게 기프티콘도 드리니 많은 참여부탁드립니다 ~~ 설문조사 참여링크 : http://naver.me/5N7kfHiY\n",
      "ㅈㄱㄴ\n",
      "ㅈㄱㄴ\n",
      "뭔가 자격증이라도 하나땄어야하나? 급 걱정이옴. 참고로 공대\n",
      "혹시 정선태 교수님 수업 퀴즈 몇 번인지 아세요..?\n",
      "24일에 호실이동 시작이잖아요? 만약에 제가 퇴실점검까지 받고 배정된 호실 가려는데 그 배정된 호실에 있는 분들이 퇴실점검을 받지 않으면 못들어 가는 건가요?\n"
     ]
    }
   ],
   "source": [
    "# go to kookmin university pages\n",
    "\n",
    "base_url = 'https://everytime.kr/374614/p/'\n",
    "\n",
    "for i in range(1, 2):\n",
    "    all_page = base_url + str(i)\n",
    "    driver.get(all_page)\n",
    "    \n",
    "    sleep(1)\n",
    "    \n",
    "    page_html = driver.page_source\n",
    "    soup = BeautifulSoup(page_html, 'html.parser')\n",
    "    articles = soup.select('#container > div.articles > article > a.article')\n",
    "    \n",
    "    if len(articles) < 1:\n",
    "        print('error')\n",
    "    \n",
    "    for a in articles:\n",
    "        single_link = 'https://everytime.kr' + str(a['href'].strip())\n",
    "        \n",
    "        driver.get(single_link)\n",
    "         \n",
    "        sleep(0.5)\n",
    "        \n",
    "        single_page_html = driver.page_source\n",
    "        soup = BeautifulSoup(single_page_html, 'html.parser')\n",
    "        single_article = soup.select('#container > div.articles > article > a.article > p.large')\n",
    "        \n",
    "        if len(single_article) < 1:\n",
    "            print('single error')\n",
    "            \n",
    "        for s in single_article:\n",
    "            print(s.text.strip())\n"
   ]
  },
  {
   "cell_type": "code",
   "execution_count": null,
   "metadata": {},
   "outputs": [],
   "source": []
  }
 ],
 "metadata": {
  "kernelspec": {
   "display_name": "Python 3",
   "language": "python",
   "name": "python3"
  },
  "language_info": {
   "codemirror_mode": {
    "name": "ipython",
    "version": 3
   },
   "file_extension": ".py",
   "mimetype": "text/x-python",
   "name": "python",
   "nbconvert_exporter": "python",
   "pygments_lexer": "ipython3",
   "version": "3.6.5"
  }
 },
 "nbformat": 4,
 "nbformat_minor": 2
}
